{
 "cells": [
  {
   "cell_type": "code",
   "execution_count": 6,
   "metadata": {},
   "outputs": [],
   "source": [
    "import json\n",
    "from types import SimpleNamespace\n",
    "\n",
    "with open('definition.json') as file:\n",
    "    data = json.load(file, object_hook = lambda d: SimpleNamespace(**d))"
   ]
  },
  {
   "cell_type": "code",
   "execution_count": 5,
   "metadata": {},
   "outputs": [
    {
     "data": {
      "text/plain": [
       "WindowsPath('c:/Users/Will Diepholz/1 - Github/1_Python/x-wing-squad-builder/x_wing_squad_builder')"
      ]
     },
     "execution_count": 5,
     "metadata": {},
     "output_type": "execute_result"
    }
   ],
   "source": [
    "from pathlib import Path\n",
    "Path.cwd().parent"
   ]
  },
  {
   "cell_type": "code",
   "execution_count": 14,
   "metadata": {},
   "outputs": [
    {
     "data": {
      "text/plain": [
       "'T-65 X-wing'"
      ]
     },
     "execution_count": 14,
     "metadata": {},
     "output_type": "execute_result"
    }
   ],
   "source": [
    "s = 't-65 x-wing'\n",
    "s1 = \"-\".join([part.capitalize() for part in s.split('-')])\n",
    "s2 = ' '.join([part.capitalize() for part in s1.split()])\n",
    "s2"
   ]
  },
  {
   "cell_type": "code",
   "execution_count": 6,
   "metadata": {},
   "outputs": [
    {
     "ename": "FileNotFoundError",
     "evalue": "[Errno 2] No such file or directory: 'definition.json'",
     "output_type": "error",
     "traceback": [
      "\u001b[1;31m---------------------------------------------------------------------------\u001b[0m",
      "\u001b[1;31mFileNotFoundError\u001b[0m                         Traceback (most recent call last)",
      "\u001b[1;32mC:\\Users\\WILLDI~1\\AppData\\Local\\Temp/ipykernel_11016/2878924557.py\u001b[0m in \u001b[0;36m<module>\u001b[1;34m\u001b[0m\n\u001b[0;32m    102\u001b[0m \u001b[1;33m\u001b[0m\u001b[0m\n\u001b[0;32m    103\u001b[0m \u001b[1;33m\u001b[0m\u001b[0m\n\u001b[1;32m--> 104\u001b[1;33m \u001b[0mxwing\u001b[0m \u001b[1;33m=\u001b[0m \u001b[0mXWing\u001b[0m\u001b[1;33m.\u001b[0m\u001b[0mlaunch_xwing_data\u001b[0m\u001b[1;33m(\u001b[0m\u001b[1;34m'definition.json'\u001b[0m\u001b[1;33m)\u001b[0m\u001b[1;33m\u001b[0m\u001b[1;33m\u001b[0m\u001b[0m\n\u001b[0m",
      "\u001b[1;32mC:\\Users\\WILLDI~1\\AppData\\Local\\Temp/ipykernel_11016/2878924557.py\u001b[0m in \u001b[0;36mlaunch_xwing_data\u001b[1;34m(cls, data_path)\u001b[0m\n\u001b[0;32m     21\u001b[0m     \u001b[1;33m@\u001b[0m\u001b[0mclassmethod\u001b[0m\u001b[1;33m\u001b[0m\u001b[1;33m\u001b[0m\u001b[0m\n\u001b[0;32m     22\u001b[0m     \u001b[1;32mdef\u001b[0m \u001b[0mlaunch_xwing_data\u001b[0m\u001b[1;33m(\u001b[0m\u001b[0mcls\u001b[0m\u001b[1;33m,\u001b[0m \u001b[0mdata_path\u001b[0m\u001b[1;33m:\u001b[0m \u001b[0mstr\u001b[0m\u001b[1;33m)\u001b[0m\u001b[1;33m:\u001b[0m\u001b[1;33m\u001b[0m\u001b[1;33m\u001b[0m\u001b[0m\n\u001b[1;32m---> 23\u001b[1;33m         \u001b[1;32mwith\u001b[0m \u001b[0mopen\u001b[0m\u001b[1;33m(\u001b[0m\u001b[0mdata_path\u001b[0m\u001b[1;33m)\u001b[0m \u001b[1;32mas\u001b[0m \u001b[0mfile\u001b[0m\u001b[1;33m:\u001b[0m\u001b[1;33m\u001b[0m\u001b[1;33m\u001b[0m\u001b[0m\n\u001b[0m\u001b[0;32m     24\u001b[0m             \u001b[0mdata\u001b[0m \u001b[1;33m=\u001b[0m \u001b[0mjson\u001b[0m\u001b[1;33m.\u001b[0m\u001b[0mload\u001b[0m\u001b[1;33m(\u001b[0m\u001b[0mfile\u001b[0m\u001b[1;33m,\u001b[0m \u001b[0mobject_hook\u001b[0m \u001b[1;33m=\u001b[0m \u001b[1;32mlambda\u001b[0m \u001b[0md\u001b[0m\u001b[1;33m:\u001b[0m \u001b[0mSimpleNamespace\u001b[0m\u001b[1;33m(\u001b[0m\u001b[1;33m**\u001b[0m\u001b[0md\u001b[0m\u001b[1;33m)\u001b[0m\u001b[1;33m)\u001b[0m\u001b[1;33m\u001b[0m\u001b[1;33m\u001b[0m\u001b[0m\n\u001b[0;32m     25\u001b[0m         \u001b[1;32mreturn\u001b[0m \u001b[0mcls\u001b[0m\u001b[1;33m(\u001b[0m\u001b[0mdata\u001b[0m\u001b[1;33m)\u001b[0m\u001b[1;33m\u001b[0m\u001b[1;33m\u001b[0m\u001b[0m\n",
      "\u001b[1;31mFileNotFoundError\u001b[0m: [Errno 2] No such file or directory: 'definition.json'"
     ]
    }
   ],
   "source": [
    "from pathlib import Path\n",
    "import json\n",
    "from types import SimpleNamespace\n",
    "\n",
    "from typing import List, Tuple\n",
    "\n",
    "class XWing:\n",
    "    def __init__(self, data: SimpleNamespace):\n",
    "        self.data = data\n",
    "\n",
    "    @property\n",
    "    def factions(self) -> List[str]:\n",
    "        return [faction.name.capitalize() for faction in self.data.factions]\n",
    "\n",
    "    def get_ships(self, faction_name: str) -> List[str]:\n",
    "        for i, test_faction in enumerate(self.data.factions):\n",
    "            if faction_name == test_faction.name:\n",
    "                return self.data.factions[i].ships\n",
    "        return None\n",
    "\n",
    "    @classmethod\n",
    "    def launch_xwing_data(cls, data_path: str):\n",
    "        with open(data_path) as file:\n",
    "            data = json.load(file, object_hook = lambda d: SimpleNamespace(**d))\n",
    "        return cls(data)\n",
    "    \n",
    "\n",
    "class Ship:\n",
    "    def __init__(self, faction_name: str, ship_data: dict):\n",
    "        self.__faction_name = faction_name\n",
    "        self.__ship_data = ship_data\n",
    "\n",
    "    def __repr__(self):\n",
    "        return f\"Ship(ship_name = {self.ship_name}, faction_name = {self.faction_name})\"\n",
    "\n",
    "    @property\n",
    "    def ship_name(self) -> str:\n",
    "        return self.__ship_data['name']\n",
    "\n",
    "    @property\n",
    "    def faction_name(self) -> str:\n",
    "        return self.__faction_name\n",
    "\n",
    "    @property\n",
    "    def base(self) -> str:\n",
    "        return self.ship_data.get('base')\n",
    "\n",
    "    @property\n",
    "    def pilots(self):\n",
    "        return self.ship_data.get('pilots')\n",
    "\n",
    "    @property\n",
    "    def initiative_list(self) -> List[int]:\n",
    "        return list(sorted((int(pilot.initiative) for pilot in self.pilots)))\n",
    "\n",
    "    @property\n",
    "    def point_list(self) -> List[int]:\n",
    "        return [int(pilot.cost) for pilot in self.pilots]\n",
    "\n",
    "    @property\n",
    "    def point_range(self) -> Tuple[int]:\n",
    "        points = self.point_list\n",
    "        return (min(points), max(points))\n",
    "\n",
    "    @property\n",
    "    def statistics(self) -> List[SimpleNamespace]:\n",
    "        return self.ship_data['statistics']\n",
    "\n",
    "    @property\n",
    "    def actions(self) -> List[SimpleNamespace]:\n",
    "        return self.ship_data['actions']\n",
    "\n",
    "    @property\n",
    "    def upgrade_slots(self) -> List[str]:\n",
    "        return self.ship_data['upgrade_slots']\n",
    "\n",
    "    @property\n",
    "    def ship_data(self):\n",
    "        return self.__ship_data\n",
    "\n",
    "class Faction:\n",
    "    def __init__(self, data: dict):\n",
    "        self.faction_data = data\n",
    "\n",
    "    def __repr__(self):\n",
    "        return f\"Faction(name={self.faction_name})\"\n",
    "    \n",
    "    @property \n",
    "    def faction_name(self) -> str:\n",
    "        return self.faction_data['name']\n",
    "\n",
    "    @property\n",
    "    def faction_ships(self) -> List:\n",
    "        return self.faction_data['ships']\n",
    "\n",
    "    def get_ship(self, ship_name: str) -> Ship:\n",
    "        for ship in self.faction_ships:\n",
    "            if ship_name == ship.name:\n",
    "                return Ship(self.faction_name, ship.__dict__)\n",
    "        return None\n",
    "\n",
    "\n",
    "\n",
    "xwing = XWing.launch_xwing_data('definition.json')"
   ]
  },
  {
   "cell_type": "code",
   "execution_count": 29,
   "metadata": {},
   "outputs": [
    {
     "data": {
      "text/plain": [
       "['talent']"
      ]
     },
     "execution_count": 29,
     "metadata": {},
     "output_type": "execute_result"
    }
   ],
   "source": [
    "faction = Faction(xwing.data.factions[0].__dict__)\n",
    "s = 'nantex-class starfighter'\n",
    "ship = faction.get_ship(s)\n",
    "ship.upgrade_slots"
   ]
  },
  {
   "cell_type": "code",
   "execution_count": 23,
   "metadata": {},
   "outputs": [
    {
     "data": {
      "text/plain": [
       "{'name': 'nantex-class starfighter',\n",
       " 'base': 'small',\n",
       " 'statistics': [namespace(attacks=[namespace(attack=3, arc_type='bullseye'),\n",
       "                     namespace(attack=2, arc_type='turret')]),\n",
       "  namespace(agility=3),\n",
       "  namespace(hull=4),\n",
       "  namespace(shield=namespace(shield=4))],\n",
       " 'actions': [namespace(name='focus', color='white'),\n",
       "  namespace(name='evade', color='white')],\n",
       " 'upgrade_slots': ['talent'],\n",
       " 'pilots': [namespace(name='sun fac',\n",
       "            limit=1,\n",
       "            initiative=6,\n",
       "            cost=44,\n",
       "            upgrade_slots=['talent']),\n",
       "  namespace(name='gorgol',\n",
       "            limit=1,\n",
       "            initiative=2,\n",
       "            cost=32,\n",
       "            upgrade_slots=['modification']),\n",
       "  namespace(name='stalgasin hive guard', initiative=3, cost=35)]}"
      ]
     },
     "execution_count": 23,
     "metadata": {},
     "output_type": "execute_result"
    }
   ],
   "source": [
    "ship.ship_data"
   ]
  },
  {
   "cell_type": "code",
   "execution_count": 3,
   "metadata": {},
   "outputs": [
    {
     "data": {
      "text/plain": [
       "Faction(name=separatist)"
      ]
     },
     "execution_count": 3,
     "metadata": {},
     "output_type": "execute_result"
    }
   ],
   "source": [
    "ship.faction_name"
   ]
  },
  {
   "cell_type": "code",
   "execution_count": 115,
   "metadata": {},
   "outputs": [
    {
     "data": {
      "text/plain": [
       "{'name': 'separatist',\n",
       " 'ships': [namespace(name='nantex-class starfighter',\n",
       "            base='small',\n",
       "            statistics=[namespace(attacks=[namespace(attack=3,\n",
       "                                                     arc_type='bullseye'),\n",
       "                                           namespace(attack=2,\n",
       "                                                     arc_type='turret')]),\n",
       "                        namespace(agility=3),\n",
       "                        namespace(hull=4),\n",
       "                        namespace(shield=namespace(shield=4))],\n",
       "            actions=[namespace(name='focus', color='white'),\n",
       "                     namespace(name='evade', color='white')],\n",
       "            upgrade_slots=['talent'],\n",
       "            pilots=[namespace(name='sun fac',\n",
       "                              limit=1,\n",
       "                              initiative=6,\n",
       "                              cost=44,\n",
       "                              upgrade_slots=['talent']),\n",
       "                    namespace(name='gorgol',\n",
       "                              limit=1,\n",
       "                              initiative=2,\n",
       "                              cost=32,\n",
       "                              upgrade_slots=['modification']),\n",
       "                    namespace(name='stalgasin hive guard',\n",
       "                              initiative=3,\n",
       "                              cost=35)]),\n",
       "  namespace(name='firespray-class patrol craft',\n",
       "            base='medium',\n",
       "            statistics=[namespace(attacks=[namespace(attack=3,\n",
       "                                                     arc_type='front'),\n",
       "                                           namespace(attack=3,\n",
       "                                                     arc_type='rear')]),\n",
       "                        namespace(agility=2),\n",
       "                        namespace(hull=6),\n",
       "                        namespace(shield=namespace(shield=4))],\n",
       "            actions=[namespace(name='focus', color='white'),\n",
       "                     namespace(name='target lock', color='white'),\n",
       "                     namespace(name='reinforce', color='red'),\n",
       "                     namespace(name='boost', color='white')],\n",
       "            upgrade_slots=['cannon',\n",
       "                           'missile',\n",
       "                           'crew',\n",
       "                           'payload',\n",
       "                           'illicit',\n",
       "                           'modification',\n",
       "                           'title'],\n",
       "            pilots=[namespace(name='separatist racketeer',\n",
       "                              initiative=2,\n",
       "                              cost=63),\n",
       "                    namespace(name='jango fett',\n",
       "                              limit=1,\n",
       "                              initiative=6,\n",
       "                              cost=80,\n",
       "                              upgrade_slots=['talent']),\n",
       "                    namespace(name='boba fett',\n",
       "                              limit=1,\n",
       "                              initiative=3,\n",
       "                              cost=70)]),\n",
       "  namespace(name='sith infiltrator',\n",
       "            base='large',\n",
       "            statistics=[namespace(attacks=[namespace(attack=3,\n",
       "                                                     arc_type='front')]),\n",
       "                        namespace(agility=1),\n",
       "                        namespace(hull=6),\n",
       "                        namespace(shield=namespace(shield=4))],\n",
       "            actions=[namespace(name='focus', color='white'),\n",
       "                     namespace(name='target lock', color='white'),\n",
       "                     namespace(name='barrel roll', color='red')],\n",
       "            upgrade_slots=['torpedo',\n",
       "                           'cannon',\n",
       "                           'crew',\n",
       "                           'payload',\n",
       "                           'modification',\n",
       "                           'title',\n",
       "                           'tactical relay'],\n",
       "            pilots=[namespace(name='dark courier', initiative=2, cost=50),\n",
       "                    namespace(name='count dooku',\n",
       "                              limit=1,\n",
       "                              initiative=3,\n",
       "                              cost=63,\n",
       "                              statistics=[namespace(force=namespace(force=3,\n",
       "                                                                    recharge=1))],\n",
       "                              upgrade_slots=['force']),\n",
       "                    namespace(name='darth maul',\n",
       "                              limit=1,\n",
       "                              initiative=5,\n",
       "                              cost=64,\n",
       "                              statistics=[namespace(force=namespace(force=3,\n",
       "                                                                    recharge=1))],\n",
       "                              upgrade_slots=['force'])])]}"
      ]
     },
     "execution_count": 115,
     "metadata": {},
     "output_type": "execute_result"
    }
   ],
   "source": [
    "ship.faction_data"
   ]
  },
  {
   "cell_type": "code",
   "execution_count": 59,
   "metadata": {},
   "outputs": [
    {
     "data": {
      "text/plain": [
       "{'name': 't-65 x-wing',\n",
       " 'base': 'small',\n",
       " 'statistics': [namespace(attacks=[namespace(attack=3, arc_type='front')]),\n",
       "  namespace(agility=2),\n",
       "  namespace(hull=4),\n",
       "  namespace(shield=namespace(shield=2))],\n",
       " 'actions': [namespace(name='focus', color='white'),\n",
       "  namespace(name='target lock', color='white'),\n",
       "  namespace(name='barrel roll', color='white')],\n",
       " 'upgrade_slots': ['astromech', 'configuration', 'modification', 'torpedo'],\n",
       " 'pilots': [namespace(name='blue squadron escort', initiative=2, cost=38),\n",
       "  namespace(name='edrio two tubes',\n",
       "            limit=1,\n",
       "            initiative=2,\n",
       "            cost=42,\n",
       "            upgrade_slots=['illicit']),\n",
       "  namespace(name='luke skywalker',\n",
       "            limit=1,\n",
       "            initiative=5,\n",
       "            cost=60,\n",
       "            statistics=[namespace(force=namespace(force=2, recharge=1))],\n",
       "            upgrade_slots=['force'])]}"
      ]
     },
     "execution_count": 59,
     "metadata": {},
     "output_type": "execute_result"
    }
   ],
   "source": [
    "rebel_ships = xwing.get_ships('rebel')\n",
    "ship = rebel_ships[0]\n",
    "ship.__dict__.get('butts')\n",
    "ship.__dict__"
   ]
  }
 ],
 "metadata": {
  "interpreter": {
   "hash": "937f72f79c5d06002e0aed3119337c152610283d40d75fab5299af3ddce1b942"
  },
  "kernelspec": {
   "display_name": "Python 3.9.7 ('xwing')",
   "language": "python",
   "name": "python3"
  },
  "language_info": {
   "codemirror_mode": {
    "name": "ipython",
    "version": 3
   },
   "file_extension": ".py",
   "mimetype": "text/x-python",
   "name": "python",
   "nbconvert_exporter": "python",
   "pygments_lexer": "ipython3",
   "version": "3.8.11"
  },
  "orig_nbformat": 4
 },
 "nbformat": 4,
 "nbformat_minor": 2
}
